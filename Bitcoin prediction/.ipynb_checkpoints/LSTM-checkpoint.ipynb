{
 "cells": [
  {
   "cell_type": "code",
   "execution_count": 1,
   "metadata": {},
   "outputs": [],
   "source": [
    "import numpy as np\n",
    "import pandas as pd\n",
    "import matplotlib.pyplot as plt\n",
    "import seaborn as sns\n",
    "import missingno as msno"
   ]
  },
  {
   "cell_type": "code",
   "execution_count": 2,
   "metadata": {},
   "outputs": [
    {
     "data": {
      "text/html": [
       "<div>\n",
       "<style scoped>\n",
       "    .dataframe tbody tr th:only-of-type {\n",
       "        vertical-align: middle;\n",
       "    }\n",
       "\n",
       "    .dataframe tbody tr th {\n",
       "        vertical-align: top;\n",
       "    }\n",
       "\n",
       "    .dataframe thead th {\n",
       "        text-align: right;\n",
       "    }\n",
       "</style>\n",
       "<table border=\"1\" class=\"dataframe\">\n",
       "  <thead>\n",
       "    <tr style=\"text-align: right;\">\n",
       "      <th></th>\n",
       "      <th>unix</th>\n",
       "      <th>date</th>\n",
       "      <th>symbol</th>\n",
       "      <th>open</th>\n",
       "      <th>high</th>\n",
       "      <th>low</th>\n",
       "      <th>close</th>\n",
       "      <th>Volume BTC</th>\n",
       "      <th>Volume USDT</th>\n",
       "      <th>tradecount</th>\n",
       "    </tr>\n",
       "  </thead>\n",
       "  <tbody>\n",
       "    <tr>\n",
       "      <th>0</th>\n",
       "      <td>1.614384e+12</td>\n",
       "      <td>2021-02-27 00:00:00</td>\n",
       "      <td>BTC/USDT</td>\n",
       "      <td>46276.88</td>\n",
       "      <td>46628.93</td>\n",
       "      <td>46156.24</td>\n",
       "      <td>46621.39</td>\n",
       "      <td>336.166565</td>\n",
       "      <td>1.558817e+07</td>\n",
       "      <td>8582.0</td>\n",
       "    </tr>\n",
       "    <tr>\n",
       "      <th>1</th>\n",
       "      <td>1.614380e+12</td>\n",
       "      <td>2021-02-26 23:00:00</td>\n",
       "      <td>BTC/USDT</td>\n",
       "      <td>45476.30</td>\n",
       "      <td>46444.57</td>\n",
       "      <td>45368.74</td>\n",
       "      <td>46276.87</td>\n",
       "      <td>2571.865785</td>\n",
       "      <td>1.185428e+08</td>\n",
       "      <td>60317.0</td>\n",
       "    </tr>\n",
       "    <tr>\n",
       "      <th>2</th>\n",
       "      <td>1.614377e+12</td>\n",
       "      <td>2021-02-26 22:00:00</td>\n",
       "      <td>BTC/USDT</td>\n",
       "      <td>45680.00</td>\n",
       "      <td>45988.77</td>\n",
       "      <td>45000.00</td>\n",
       "      <td>45476.30</td>\n",
       "      <td>4400.975291</td>\n",
       "      <td>2.005474e+08</td>\n",
       "      <td>123927.0</td>\n",
       "    </tr>\n",
       "    <tr>\n",
       "      <th>3</th>\n",
       "      <td>1.614373e+12</td>\n",
       "      <td>2021-02-26 21:00:00</td>\n",
       "      <td>BTC/USDT</td>\n",
       "      <td>46270.00</td>\n",
       "      <td>46867.00</td>\n",
       "      <td>45500.00</td>\n",
       "      <td>45677.46</td>\n",
       "      <td>3831.690182</td>\n",
       "      <td>1.771737e+08</td>\n",
       "      <td>85141.0</td>\n",
       "    </tr>\n",
       "    <tr>\n",
       "      <th>4</th>\n",
       "      <td>1.614370e+12</td>\n",
       "      <td>2021-02-26 20:00:00</td>\n",
       "      <td>BTC/USDT</td>\n",
       "      <td>46959.18</td>\n",
       "      <td>47115.38</td>\n",
       "      <td>46071.89</td>\n",
       "      <td>46270.00</td>\n",
       "      <td>3514.297867</td>\n",
       "      <td>1.637276e+08</td>\n",
       "      <td>80837.0</td>\n",
       "    </tr>\n",
       "  </tbody>\n",
       "</table>\n",
       "</div>"
      ],
      "text/plain": [
       "           unix                 date    symbol      open      high       low  \\\n",
       "0  1.614384e+12  2021-02-27 00:00:00  BTC/USDT  46276.88  46628.93  46156.24   \n",
       "1  1.614380e+12  2021-02-26 23:00:00  BTC/USDT  45476.30  46444.57  45368.74   \n",
       "2  1.614377e+12  2021-02-26 22:00:00  BTC/USDT  45680.00  45988.77  45000.00   \n",
       "3  1.614373e+12  2021-02-26 21:00:00  BTC/USDT  46270.00  46867.00  45500.00   \n",
       "4  1.614370e+12  2021-02-26 20:00:00  BTC/USDT  46959.18  47115.38  46071.89   \n",
       "\n",
       "      close   Volume BTC   Volume USDT  tradecount  \n",
       "0  46621.39   336.166565  1.558817e+07      8582.0  \n",
       "1  46276.87  2571.865785  1.185428e+08     60317.0  \n",
       "2  45476.30  4400.975291  2.005474e+08    123927.0  \n",
       "3  45677.46  3831.690182  1.771737e+08     85141.0  \n",
       "4  46270.00  3514.297867  1.637276e+08     80837.0  "
      ]
     },
     "execution_count": 2,
     "metadata": {},
     "output_type": "execute_result"
    }
   ],
   "source": [
    "dataframe = pd.read_csv('bitcoin_hourly.csv')\n",
    "dataframe.head()"
   ]
  },
  {
   "cell_type": "code",
   "execution_count": 3,
   "metadata": {},
   "outputs": [
    {
     "data": {
      "text/html": [
       "<div>\n",
       "<style scoped>\n",
       "    .dataframe tbody tr th:only-of-type {\n",
       "        vertical-align: middle;\n",
       "    }\n",
       "\n",
       "    .dataframe tbody tr th {\n",
       "        vertical-align: top;\n",
       "    }\n",
       "\n",
       "    .dataframe thead th {\n",
       "        text-align: right;\n",
       "    }\n",
       "</style>\n",
       "<table border=\"1\" class=\"dataframe\">\n",
       "  <thead>\n",
       "    <tr style=\"text-align: right;\">\n",
       "      <th></th>\n",
       "      <th>unix</th>\n",
       "      <th>open</th>\n",
       "      <th>high</th>\n",
       "      <th>low</th>\n",
       "      <th>close</th>\n",
       "      <th>Volume BTC</th>\n",
       "      <th>Volume USDT</th>\n",
       "      <th>tradecount</th>\n",
       "    </tr>\n",
       "  </thead>\n",
       "  <tbody>\n",
       "    <tr>\n",
       "      <th>count</th>\n",
       "      <td>3.359600e+04</td>\n",
       "      <td>33596.000000</td>\n",
       "      <td>33596.000000</td>\n",
       "      <td>33596.000000</td>\n",
       "      <td>33596.000000</td>\n",
       "      <td>33596.000000</td>\n",
       "      <td>3.359600e+04</td>\n",
       "      <td>5012.000000</td>\n",
       "    </tr>\n",
       "    <tr>\n",
       "      <th>mean</th>\n",
       "      <td>2.408156e+11</td>\n",
       "      <td>10088.510021</td>\n",
       "      <td>10151.232791</td>\n",
       "      <td>10020.153279</td>\n",
       "      <td>10089.709901</td>\n",
       "      <td>1926.125372</td>\n",
       "      <td>2.384416e+07</td>\n",
       "      <td>60208.728851</td>\n",
       "    </tr>\n",
       "    <tr>\n",
       "      <th>std</th>\n",
       "      <td>5.713962e+11</td>\n",
       "      <td>7286.387181</td>\n",
       "      <td>7355.122064</td>\n",
       "      <td>7211.679373</td>\n",
       "      <td>7289.242215</td>\n",
       "      <td>2046.170713</td>\n",
       "      <td>4.335391e+07</td>\n",
       "      <td>42136.528257</td>\n",
       "    </tr>\n",
       "    <tr>\n",
       "      <th>min</th>\n",
       "      <td>1.502942e+09</td>\n",
       "      <td>2919.000000</td>\n",
       "      <td>2950.000000</td>\n",
       "      <td>2817.000000</td>\n",
       "      <td>2919.000000</td>\n",
       "      <td>0.000000</td>\n",
       "      <td>0.000000e+00</td>\n",
       "      <td>0.000000</td>\n",
       "    </tr>\n",
       "    <tr>\n",
       "      <th>25%</th>\n",
       "      <td>1.533192e+09</td>\n",
       "      <td>6529.972500</td>\n",
       "      <td>6550.857500</td>\n",
       "      <td>6501.000000</td>\n",
       "      <td>6529.972500</td>\n",
       "      <td>821.109299</td>\n",
       "      <td>5.881819e+06</td>\n",
       "      <td>30828.000000</td>\n",
       "    </tr>\n",
       "    <tr>\n",
       "      <th>50%</th>\n",
       "      <td>1.563428e+09</td>\n",
       "      <td>8696.310000</td>\n",
       "      <td>8743.660000</td>\n",
       "      <td>8642.095000</td>\n",
       "      <td>8696.135000</td>\n",
       "      <td>1399.940000</td>\n",
       "      <td>1.164945e+07</td>\n",
       "      <td>49480.000000</td>\n",
       "    </tr>\n",
       "    <tr>\n",
       "      <th>75%</th>\n",
       "      <td>1.593663e+09</td>\n",
       "      <td>10907.527500</td>\n",
       "      <td>10955.110000</td>\n",
       "      <td>10856.240000</td>\n",
       "      <td>10907.940000</td>\n",
       "      <td>2360.367999</td>\n",
       "      <td>2.313006e+07</td>\n",
       "      <td>77666.000000</td>\n",
       "    </tr>\n",
       "    <tr>\n",
       "      <th>max</th>\n",
       "      <td>1.614384e+12</td>\n",
       "      <td>58183.690000</td>\n",
       "      <td>58352.800000</td>\n",
       "      <td>57916.660000</td>\n",
       "      <td>58183.690000</td>\n",
       "      <td>47255.760000</td>\n",
       "      <td>1.252120e+09</td>\n",
       "      <td>554876.000000</td>\n",
       "    </tr>\n",
       "  </tbody>\n",
       "</table>\n",
       "</div>"
      ],
      "text/plain": [
       "               unix          open          high           low         close  \\\n",
       "count  3.359600e+04  33596.000000  33596.000000  33596.000000  33596.000000   \n",
       "mean   2.408156e+11  10088.510021  10151.232791  10020.153279  10089.709901   \n",
       "std    5.713962e+11   7286.387181   7355.122064   7211.679373   7289.242215   \n",
       "min    1.502942e+09   2919.000000   2950.000000   2817.000000   2919.000000   \n",
       "25%    1.533192e+09   6529.972500   6550.857500   6501.000000   6529.972500   \n",
       "50%    1.563428e+09   8696.310000   8743.660000   8642.095000   8696.135000   \n",
       "75%    1.593663e+09  10907.527500  10955.110000  10856.240000  10907.940000   \n",
       "max    1.614384e+12  58183.690000  58352.800000  57916.660000  58183.690000   \n",
       "\n",
       "         Volume BTC   Volume USDT     tradecount  \n",
       "count  33596.000000  3.359600e+04    5012.000000  \n",
       "mean    1926.125372  2.384416e+07   60208.728851  \n",
       "std     2046.170713  4.335391e+07   42136.528257  \n",
       "min        0.000000  0.000000e+00       0.000000  \n",
       "25%      821.109299  5.881819e+06   30828.000000  \n",
       "50%     1399.940000  1.164945e+07   49480.000000  \n",
       "75%     2360.367999  2.313006e+07   77666.000000  \n",
       "max    47255.760000  1.252120e+09  554876.000000  "
      ]
     },
     "execution_count": 3,
     "metadata": {},
     "output_type": "execute_result"
    }
   ],
   "source": [
    "dataframe.describe()"
   ]
  },
  {
   "cell_type": "code",
   "execution_count": 4,
   "metadata": {},
   "outputs": [
    {
     "data": {
      "text/plain": [
       "<AxesSubplot:>"
      ]
     },
     "execution_count": 4,
     "metadata": {},
     "output_type": "execute_result"
    },
    {
     "data": {
      "image/png": "[encoded data removed]",
      "text/plain": [
       "<Figure size 1800x720 with 2 Axes>"
      ]
     },
     "metadata": {
      "needs_background": "light"
     },
     "output_type": "display_data"
    }
   ],
   "source": [
    "msno.matrix(dataframe)"
   ]
  },
  {
   "cell_type": "code",
   "execution_count": 5,
   "metadata": {},
   "outputs": [
    {
     "data": {
      "text/plain": [
       "unix               0\n",
       "date               0\n",
       "symbol             0\n",
       "open               0\n",
       "high               0\n",
       "low                0\n",
       "close              0\n",
       "Volume BTC         0\n",
       "Volume USDT        0\n",
       "tradecount     28584\n",
       "dtype: int64"
      ]
     },
     "execution_count": 5,
     "metadata": {},
     "output_type": "execute_result"
    }
   ],
   "source": [
    "dataframe.isnull().sum()"
   ]
  },
  {
   "cell_type": "code",
   "execution_count": 6,
   "metadata": {},
   "outputs": [],
   "source": [
    "df_copy = dataframe.copy()\n",
    "df_copy = df_copy.drop(columns=['tradecount'])"
   ]
  },
  {
   "cell_type": "code",
   "execution_count": 7,
   "metadata": {},
   "outputs": [],
   "source": [
    "import datetime\n",
    "\n",
    "def formatTime(time):\n",
    "    time_len = len(str(time))\n",
    "    if time_len == 12:\n",
    "        return (datetime.datetime.utcfromtimestamp(time).strftime('%Y-%m-%d %H:%M:%S'))\n",
    "    else: \n",
    "        return (datetime.datetime.utcfromtimestamp(time/1000)).strftime('%Y-%m-%d %H:%M:%S')"
   ]
  },
  {
   "cell_type": "code",
   "execution_count": 8,
   "metadata": {},
   "outputs": [
    {
     "name": "stdout",
     "output_type": "stream",
     "text": [
      "Wall time: 1.91 s\n"
     ]
    }
   ],
   "source": [
    "%%time\n",
    "\n",
    "df_copy['unix_num'] = dataframe['unix'].apply(lambda x: len(str(x)))\n",
    "df_copy['time_str'] = dataframe['unix'].apply(lambda x: formatTime(x))\n",
    "df_copy['time'] = pd.to_datetime(df_copy['time_str'].values)\n",
    "df_copy['hour'] = df_copy['time'].apply(lambda x: x.hour)\n",
    "df_copy['week_day'] = df_copy['time'].apply(lambda x: x.weekday())\n",
    "df_copy.sort_values(by=['unix'], ascending=[True], inplace=True)"
   ]
  },
  {
   "cell_type": "code",
   "execution_count": 9,
   "metadata": {},
   "outputs": [
    {
     "name": "stdout",
     "output_type": "stream",
     "text": [
      "Wall time: 9.79 s\n"
     ]
    }
   ],
   "source": [
    "%%time\n",
    "from sklearn.preprocessing import MinMaxScaler\n",
    "from sklearn.model_selection import train_test_split\n",
    "\n",
    "scaler = MinMaxScaler(feature_range=(-1, 1))\n",
    "X = df_copy[['hour', 'week_day', 'Volume BTC', 'close']]\n",
    "y = df_copy[['close']]\n",
    "\n",
    "scaler_X = scaler.fit(X)\n",
    "scaler_y = scaler.fit(y)\n",
    "\n",
    "X_train, X_test, y_train, y_test = train_test_split(X, y, test_size=0.2, shuffle=False)\n",
    "\n",
    "X_train_scal = scaler_X.transform(X_train)\n",
    "X_test_scal = scaler_X.transform(X_test)\n",
    "y_train_scal = scaler_y.transform(y_train)\n",
    "y_test_scal = scaler_y.transform(y_test)"
   ]
  },
  {
   "cell_type": "code",
   "execution_count": 10,
   "metadata": {},
   "outputs": [
    {
     "name": "stdout",
     "output_type": "stream",
     "text": [
      "X_train shape: (26876, 4)\n",
      "X_test shape: (6720, 4)\n",
      "y_train shape: (26876, 1)\n",
      "y_test shape: (6720, 1)\n"
     ]
    }
   ],
   "source": [
    "print(f'X_train shape: {X_train.shape}')\n",
    "print(f'X_test shape: {X_test.shape}')\n",
    "print(f'y_train shape: {y_train.shape}')\n",
    "print(f'y_test shape: {y_test.shape}')"
   ]
  },
  {
   "cell_type": "code",
   "execution_count": 11,
   "metadata": {},
   "outputs": [],
   "source": [
    "def createDataset(X, y, time_steps=1):\n",
    "    Xs, ys = [], []\n",
    "    for i in range(len(X) - time_steps):\n",
    "        Xs.append(X[i:(i + time_steps)])\n",
    "        ys.append(y[i + time_steps])\n",
    "    return np.array(Xs), np.array(ys)"
   ]
  },
  {
   "cell_type": "code",
   "execution_count": 12,
   "metadata": {},
   "outputs": [
    {
     "name": "stdout",
     "output_type": "stream",
     "text": [
      "X_train shape: (26852, 24, 4)\n",
      "X_test shape: (6696, 24, 4)\n",
      "y_train shape: (26852, 1)\n",
      "y_test shape: (6696, 1)\n",
      "Wall time: 97.8 ms\n"
     ]
    }
   ],
   "source": [
    "%%time\n",
    "time_steps = 24\n",
    "X_train_f, y_train_f = createDataset(X_train_scal, y_train_scal, time_steps)\n",
    "X_test_f, y_test_f = createDataset(X_test_scal, y_test_scal, time_steps)\n",
    "\n",
    "print(f'X_train shape: {X_train_f.shape}')\n",
    "print(f'X_test shape: {X_test_f.shape}')\n",
    "print(f'y_train shape: {y_train_f.shape}')\n",
    "print(f'y_test shape: {y_test_f.shape}')"
   ]
  },
  {
   "cell_type": "code",
   "execution_count": 81,
   "metadata": {},
   "outputs": [
    {
     "name": "stdout",
     "output_type": "stream",
     "text": [
      "Model: \"sequential_7\"\n",
      "_________________________________________________________________\n",
      "Layer (type)                 Output Shape              Param #   \n",
      "=================================================================\n",
      "lstm_9 (LSTM)                (None, 300)               366000    \n",
      "_________________________________________________________________\n",
      "batch_normalization_6 (Batch (None, 300)               1200      \n",
      "_________________________________________________________________\n",
      "dense_6 (Dense)              (None, 1)                 301       \n",
      "=================================================================\n",
      "Total params: 367,501\n",
      "Trainable params: 366,901\n",
      "Non-trainable params: 600\n",
      "_________________________________________________________________\n"
     ]
    }
   ],
   "source": [
    "from keras.models import Sequential\n",
    "from keras.layers import LSTM\n",
    "from keras.layers import Dense\n",
    "from keras.layers import Dropout\n",
    "from keras.layers import Bidirectional\n",
    "from keras.layers import BatchNormalization\n",
    "import keras\n",
    "\n",
    "model = Sequential()\n",
    "model.add(keras.Input(shape=((X_train_f.shape[1], X_train_f.shape[2]))))\n",
    "#model.add(Bidirectional(LSTM(300, activation='tanh', return_sequences=False)))\n",
    "model.add(LSTM(300, activation='tanh', return_sequences=True))\n",
    "model.add(Dropout(0.2))\n",
    "model.add(LSTM(150, activation='tanh', return_sequences=False))\n",
    "model.add(BatchNormalization())\n",
    "model.add(Dense(1))\n",
    "model.compile(loss='mean_squared_error', optimizer='rmsprop')\n",
    "model.summary()"
   ]
  },
  {
   "cell_type": "code",
   "execution_count": 83,
   "metadata": {},
   "outputs": [
    {
     "name": "stdout",
     "output_type": "stream",
     "text": [
      "Epoch 1/30\n",
      "105/105 [==============================] - 2s 21ms/step - loss: 0.0029\n",
      "Epoch 2/30\n",
      "105/105 [==============================] - 2s 21ms/step - loss: 0.0029\n",
      "Epoch 3/30\n",
      "105/105 [==============================] - 2s 21ms/step - loss: 0.0029\n",
      "Epoch 4/30\n",
      "105/105 [==============================] - 2s 21ms/step - loss: 0.0029\n",
      "Epoch 5/30\n",
      "105/105 [==============================] - 2s 22ms/step - loss: 0.0029\n",
      "Epoch 6/30\n",
      "105/105 [==============================] - 2s 21ms/step - loss: 0.0029\n",
      "Epoch 7/30\n",
      "105/105 [==============================] - 2s 20ms/step - loss: 0.0029\n",
      "Epoch 8/30\n",
      "105/105 [==============================] - 2s 23ms/step - loss: 0.0029\n",
      "Epoch 9/30\n",
      "105/105 [==============================] - 2s 21ms/step - loss: 0.0029\n",
      "Epoch 10/30\n",
      "105/105 [==============================] - 3s 24ms/step - loss: 0.0029\n",
      "Epoch 11/30\n",
      "105/105 [==============================] - 2s 23ms/step - loss: 0.0030: 0s - loss\n",
      "Epoch 12/30\n",
      "105/105 [==============================] - 2s 22ms/step - loss: 0.0030\n",
      "Epoch 13/30\n",
      "105/105 [==============================] - 2s 21ms/step - loss: 0.0030\n",
      "Epoch 14/30\n",
      "105/105 [==============================] - 2s 20ms/step - loss: 0.0030\n",
      "Epoch 15/30\n",
      "105/105 [==============================] - 2s 20ms/step - loss: 0.0030\n",
      "Epoch 16/30\n",
      "105/105 [==============================] - 2s 20ms/step - loss: 0.0030\n",
      "Epoch 17/30\n",
      "105/105 [==============================] - 2s 20ms/step - loss: 0.0030\n",
      "Epoch 18/30\n",
      "105/105 [==============================] - 2s 21ms/step - loss: 0.0030\n",
      "Epoch 19/30\n",
      "105/105 [==============================] - 2s 22ms/step - loss: 0.0030\n",
      "Epoch 20/30\n",
      "105/105 [==============================] - 2s 23ms/step - loss: 0.0030\n",
      "Epoch 21/30\n",
      "105/105 [==============================] - 2s 22ms/step - loss: 0.0030\n",
      "Epoch 22/30\n",
      "105/105 [==============================] - 2s 22ms/step - loss: 0.0030\n",
      "Epoch 23/30\n",
      "105/105 [==============================] - 2s 22ms/step - loss: 0.0030\n",
      "Epoch 24/30\n",
      "105/105 [==============================] - 2s 22ms/step - loss: 0.0030\n",
      "Epoch 25/30\n",
      "105/105 [==============================] - 2s 22ms/step - loss: 0.0030\n",
      "Epoch 26/30\n",
      "105/105 [==============================] - 2s 22ms/step - loss: 0.0030\n",
      "Epoch 27/30\n",
      "105/105 [==============================] - 2s 22ms/step - loss: 0.0030\n",
      "Epoch 28/30\n",
      "105/105 [==============================] - 2s 22ms/step - loss: 0.0030\n",
      "Epoch 29/30\n",
      "105/105 [==============================] - 2s 22ms/step - loss: 0.0030\n",
      "Epoch 30/30\n",
      "105/105 [==============================] - 2s 22ms/step - loss: 0.0030\n"
     ]
    }
   ],
   "source": [
    "history = model.fit(X_train_f, y_train_f, batch_size=256, epochs=30, shuffle=False, verbose=1)"
   ]
  },
  {
   "cell_type": "code",
   "execution_count": 84,
   "metadata": {},
   "outputs": [
    {
     "data": {
      "text/plain": [
       "[<matplotlib.lines.Line2D at 0x240d673a070>]"
      ]
     },
     "execution_count": 84,
     "metadata": {},
     "output_type": "execute_result"
    },
    {
     "data": {
      "image/png": "[encoded data removed]",
      "text/plain": [
       "<Figure size 720x432 with 1 Axes>"
      ]
     },
     "metadata": {
      "needs_background": "light"
     },
     "output_type": "display_data"
    }
   ],
   "source": [
    "loss = history.history['loss']\n",
    "epochs = range(1, len(loss) + 1)\n",
    "\n",
    "fig = plt.figure(figsize=(10, 6))\n",
    "ax = fig.add_subplot(111)\n",
    "ax.plot(epochs, loss, label='Training loss')"
   ]
  },
  {
   "cell_type": "code",
   "execution_count": 85,
   "metadata": {},
   "outputs": [
    {
     "name": "stdout",
     "output_type": "stream",
     "text": [
      "size: 6696\n"
     ]
    },
    {
     "data": {
      "text/html": [
       "<div>\n",
       "<style scoped>\n",
       "    .dataframe tbody tr th:only-of-type {\n",
       "        vertical-align: middle;\n",
       "    }\n",
       "\n",
       "    .dataframe tbody tr th {\n",
       "        vertical-align: top;\n",
       "    }\n",
       "\n",
       "    .dataframe thead th {\n",
       "        text-align: right;\n",
       "    }\n",
       "</style>\n",
       "<table border=\"1\" class=\"dataframe\">\n",
       "  <thead>\n",
       "    <tr style=\"text-align: right;\">\n",
       "      <th></th>\n",
       "      <th>actual</th>\n",
       "      <th>predicted</th>\n",
       "    </tr>\n",
       "  </thead>\n",
       "  <tbody>\n",
       "    <tr>\n",
       "      <th>0</th>\n",
       "      <td>10223.57</td>\n",
       "      <td>13466.158203</td>\n",
       "    </tr>\n",
       "    <tr>\n",
       "      <th>1</th>\n",
       "      <td>10284.47</td>\n",
       "      <td>13466.713867</td>\n",
       "    </tr>\n",
       "    <tr>\n",
       "      <th>2</th>\n",
       "      <td>10259.81</td>\n",
       "      <td>13523.367188</td>\n",
       "    </tr>\n",
       "    <tr>\n",
       "      <th>3</th>\n",
       "      <td>10260.75</td>\n",
       "      <td>13501.689453</td>\n",
       "    </tr>\n",
       "    <tr>\n",
       "      <th>4</th>\n",
       "      <td>10293.61</td>\n",
       "      <td>13503.748047</td>\n",
       "    </tr>\n",
       "  </tbody>\n",
       "</table>\n",
       "</div>"
      ],
      "text/plain": [
       "     actual     predicted\n",
       "0  10223.57  13466.158203\n",
       "1  10284.47  13466.713867\n",
       "2  10259.81  13523.367188\n",
       "3  10260.75  13501.689453\n",
       "4  10293.61  13503.748047"
      ]
     },
     "execution_count": 85,
     "metadata": {},
     "output_type": "execute_result"
    }
   ],
   "source": [
    "import math\n",
    "\n",
    "prediction = model.predict(X_test_f)\n",
    "y_test_inv = scaler_y.inverse_transform(y_test_f)\n",
    "prediction_inv = scaler_y.inverse_transform(prediction)\n",
    "combined_array = np.concatenate((y_test_inv, prediction_inv), axis=1)\n",
    "combined_array_2 = np.concatenate((X_test.iloc[time_steps:], combined_array), axis=1)\n",
    "\n",
    "df_final = pd.DataFrame(data = combined_array, columns=[\"actual\", \"predicted\"])\n",
    "print(\"size: %d\" % (len(combined_array)))\n",
    "df_final.head()"
   ]
  },
  {
   "cell_type": "code",
   "execution_count": 86,
   "metadata": {},
   "outputs": [
    {
     "name": "stdout",
     "output_type": "stream",
     "text": [
      "210/210 [==============================] - 1s 4ms/step - loss: 0.0136\n",
      "mse: 10374339.62960134\n",
      "0.013587040826678276\n"
     ]
    }
   ],
   "source": [
    "from sklearn.metrics import accuracy_score\n",
    "from sklearn.metrics import mean_squared_error\n",
    "\n",
    "results = model.evaluate(X_test_f, y_test_f)\n",
    "print(\"mse: %s\" % (mean_squared_error(y_test_inv, prediction_inv)))\n",
    "print(results)"
   ]
  },
  {
   "cell_type": "code",
   "execution_count": 80,
   "metadata": {},
   "outputs": [
    {
     "data": {
      "image/png": "[encoded data removed]",
      "text/plain": [
       "<Figure size 864x432 with 1 Axes>"
      ]
     },
     "metadata": {
      "needs_background": "light"
     },
     "output_type": "display_data"
    }
   ],
   "source": [
    "fig = plt.figure(figsize=(12, 6))\n",
    "ax = fig.add_subplot(111)\n",
    "ax.plot(df_final['actual'], label='Actual')\n",
    "ax.plot(df_final['predicted'], label='Predicted')\n",
    "ax.set_title('Actual and Predicted data')\n",
    "ax.legend()\n",
    "ax.grid(True)"
   ]
  },
  {
   "cell_type": "code",
   "execution_count": 62,
   "metadata": {},
   "outputs": [],
   "source": [
    "from keras.models import save_model\n",
    "from keras.models import model_from_json\n",
    "from keras.models import Sequential\n",
    "from keras.layers import Dense\n",
    "from keras.layers import LSTM\n",
    "from keras.layers import Dropout\n",
    "from keras_tuner.tuners import RandomSearch\n",
    "from keras_tuner.engine.hyperparameters import HyperParameters\n",
    "from pickle import dump\n",
    "from pickle import load"
   ]
  },
  {
   "cell_type": "code",
   "execution_count": 63,
   "metadata": {},
   "outputs": [],
   "source": [
    "def buildModel(hyperparameters):\n",
    "    model = Sequential()\n",
    "    model.add(LSTM(hyperparameters.Int('input_unit', min_value=32, max_value=512, step=32), return_sequences=True, input_shape=(X_train_f.shape[1], X_train_f.shape[2])))\n",
    "    for i in range(hyperparameters.Int('n_layers', 1, 3)):\n",
    "        model.add(LSTM(hyperparameters.Int(f'lstm_{i}_units', min_value=32, max_value=512, step=32), return_sequences=True))\n",
    "        model.add(Dropout(hyperparameters.Float('Dropout_rate', min_value=0, max_value=0.4, step=0.1)))\n",
    "    model.add(LSTM(hyperparameters.Int('layer_2_neurons', min_value=32, max_value=512, step=32)))\n",
    "    model.add(Dropout(hyperparameters.Float('Dropout_rate', min_value=0, max_value=0.4, step=0.1)))\n",
    "    model.add(Dense(1, activation=hyperparameters.Choice('dense_activation', values=['relu', 'sigmoid', 'softmax'], default='relu')))\n",
    "    model.compile(loss='mean_squared_error', optimizer='rmsprop', metrics=['mse'])\n",
    "    return model"
   ]
  },
  {
   "cell_type": "code",
   "execution_count": 64,
   "metadata": {},
   "outputs": [
    {
     "name": "stdout",
     "output_type": "stream",
     "text": [
      "INFO:tensorflow:Reloading Oracle from existing project .\\untitled_project\\oracle.json\n",
      "INFO:tensorflow:Reloading Tuner from .\\untitled_project\\tuner0.json\n",
      "INFO:tensorflow:Oracle triggered exit\n"
     ]
    }
   ],
   "source": [
    "tuner = RandomSearch(buildModel, objective='mse', max_trials=2, executions_per_trial=1)\n",
    "tuner.search(x=X_train_f, y=y_train_f, epochs=15, batch_size=64, validation_data=(X_test_f, y_test_f))"
   ]
  },
  {
   "cell_type": "code",
   "execution_count": 65,
   "metadata": {},
   "outputs": [],
   "source": [
    "best_model = tuner.get_best_models(num_models=1)[0]"
   ]
  },
  {
   "cell_type": "code",
   "execution_count": 66,
   "metadata": {},
   "outputs": [],
   "source": [
    "prediction = best_model.predict(X_test_f)"
   ]
  },
  {
   "cell_type": "code",
   "execution_count": 67,
   "metadata": {},
   "outputs": [],
   "source": [
    "save_model(best_model, 'model.h5')"
   ]
  },
  {
   "cell_type": "code",
   "execution_count": 68,
   "metadata": {},
   "outputs": [
    {
     "name": "stdout",
     "output_type": "stream",
     "text": [
      "size: 6696\n"
     ]
    },
    {
     "data": {
      "text/html": [
       "<div>\n",
       "<style scoped>\n",
       "    .dataframe tbody tr th:only-of-type {\n",
       "        vertical-align: middle;\n",
       "    }\n",
       "\n",
       "    .dataframe tbody tr th {\n",
       "        vertical-align: top;\n",
       "    }\n",
       "\n",
       "    .dataframe thead th {\n",
       "        text-align: right;\n",
       "    }\n",
       "</style>\n",
       "<table border=\"1\" class=\"dataframe\">\n",
       "  <thead>\n",
       "    <tr style=\"text-align: right;\">\n",
       "      <th></th>\n",
       "      <th>actual</th>\n",
       "      <th>predicted</th>\n",
       "    </tr>\n",
       "  </thead>\n",
       "  <tbody>\n",
       "    <tr>\n",
       "      <th>0</th>\n",
       "      <td>2.825318e+08</td>\n",
       "      <td>30551.345703</td>\n",
       "    </tr>\n",
       "    <tr>\n",
       "      <th>1</th>\n",
       "      <td>2.842146e+08</td>\n",
       "      <td>30551.345703</td>\n",
       "    </tr>\n",
       "    <tr>\n",
       "      <th>2</th>\n",
       "      <td>2.835332e+08</td>\n",
       "      <td>30551.345703</td>\n",
       "    </tr>\n",
       "    <tr>\n",
       "      <th>3</th>\n",
       "      <td>2.835591e+08</td>\n",
       "      <td>30551.345703</td>\n",
       "    </tr>\n",
       "    <tr>\n",
       "      <th>4</th>\n",
       "      <td>2.844671e+08</td>\n",
       "      <td>30551.345703</td>\n",
       "    </tr>\n",
       "  </tbody>\n",
       "</table>\n",
       "</div>"
      ],
      "text/plain": [
       "         actual     predicted\n",
       "0  2.825318e+08  30551.345703\n",
       "1  2.842146e+08  30551.345703\n",
       "2  2.835332e+08  30551.345703\n",
       "3  2.835591e+08  30551.345703\n",
       "4  2.844671e+08  30551.345703"
      ]
     },
     "execution_count": 68,
     "metadata": {},
     "output_type": "execute_result"
    }
   ],
   "source": [
    "y_test_inv = scaler_y.inverse_transform(y_test_f)\n",
    "prediction_inv = scaler_y.inverse_transform(prediction)\n",
    "combined_array = np.concatenate((y_test_inv, prediction_inv), axis=1)\n",
    "combined_array_2 = np.concatenate((X_test.iloc[time_steps:], combined_array), axis=1)\n",
    "\n",
    "df_final = pd.DataFrame(data = combined_array, columns=[\"actual\", \"predicted\"])\n",
    "print(\"size: %d\" % (len(combined_array)))\n",
    "df_final.head()"
   ]
  },
  {
   "cell_type": "code",
   "execution_count": 72,
   "metadata": {},
   "outputs": [
    {
     "name": "stdout",
     "output_type": "stream",
     "text": [
      "210/210 [==============================] - 2s 9ms/step - loss: 501704320.0000 - mse: 501704320.0000\n",
      "mse: 3.8307457458614e+17\n",
      "[501704320.0, 501704320.0]\n"
     ]
    }
   ],
   "source": [
    "from sklearn.metrics import accuracy_score\n",
    "from sklearn.metrics import mean_squared_error\n",
    "\n",
    "results = best_model.evaluate(X_test_f, y_test_f)\n",
    "print(\"mse: %s\" % (mean_squared_error(y_test_inv, prediction_inv)))\n",
    "print(results)"
   ]
  }
 ],
 "metadata": {
  "kernelspec": {
   "display_name": "Python 3 (ipykernel)",
   "language": "python",
   "name": "python3"
  },
  "language_info": {
   "codemirror_mode": {
    "name": "ipython",
    "version": 3
   },
   "file_extension": ".py",
   "mimetype": "text/x-python",
   "name": "python",
   "nbconvert_exporter": "python",
   "pygments_lexer": "ipython3",
   "version": "3.7.13"
  }
 },
 "nbformat": 4,
 "nbformat_minor": 4
}
