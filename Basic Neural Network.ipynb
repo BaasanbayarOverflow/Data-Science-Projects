{
 "cells": [
  {
   "cell_type": "code",
   "execution_count": 1,
   "metadata": {},
   "outputs": [],
   "source": [
    "import numpy as np\n",
    "import matplotlib.pyplot as plt"
   ]
  },
  {
   "cell_type": "code",
   "execution_count": 2,
   "metadata": {},
   "outputs": [],
   "source": [
    "data = np.array(\n",
    "   [\n",
    "       [3, 1.5],\n",
    "       [2, 1],\n",
    "       [4, 1.5],\n",
    "       [3, 4],\n",
    "       [3.5, 0.5],\n",
    "       [2, 0.5],\n",
    "       [5.5, 1],\n",
    "       [1, 1],\n",
    "   ]\n",
    ")\n",
    "\n",
    "targets = np.array([0, 1, 0, 1, 0, 1, 1, 0])\n",
    "learning_rate = 0.1"
   ]
  },
  {
   "cell_type": "code",
   "execution_count": 3,
   "metadata": {},
   "outputs": [],
   "source": [
    "class NeuralNetwork:\n",
    "    def __init__(self, learning_rate):\n",
    "        self.weights = np.array([np.random.randn(), np.random.randn()])\n",
    "        self.bias = np.random.randn()\n",
    "        self.learning_rate = learning_rate\n",
    "    \n",
    "    def sigmoid(self, x):\n",
    "        return (1 / (1 + np.exp(-x)))\n",
    "    \n",
    "    def derivative_sigmoid(self, x):\n",
    "        return (self.sigmoid(x) * (1 - self.sigmoid(x)))\n",
    "    \n",
    "    def predict(self, data):\n",
    "        layer_1 = np.dot(data, self.weights) + self.bias\n",
    "        layer_2 = self.sigmoid(layer_1)\n",
    "        return layer_2\n",
    "    \n",
    "    def gradient(self, data, target):\n",
    "        layer_1 = np.dot(data, self.weights) + self.bias\n",
    "        layer_2 = self.sigmoid(layer_1)\n",
    "        prediction = layer_2\n",
    "        derivative_error = 2 * (prediction - target)\n",
    "        derivative_layer_1 = self.derivative_sigmoid(layer_1)\n",
    "        derivative_layer_bias = 1\n",
    "        derivative_layer_weights = data\n",
    "        \n",
    "        #Partial derivatives\n",
    "        derivative_error_bias = derivative_error * derivative_layer_1 * derivative_layer_bias \n",
    "        derivative_error_weights = derivative_error * derivative_layer_1 * derivative_layer_weights\n",
    "        \n",
    "        return derivative_error_bias, derivative_error_weights\n",
    "    \n",
    "    def update(self, derror_dbias, derror_dweights):\n",
    "        self.bias = self.bias - (derror_dbias * self.learning_rate)\n",
    "        self.weights = self.weights - (derror_dweights * self.learning_rate)  \n",
    "    \n",
    "    def train(self, data_s, targets, iterations):\n",
    "        cumulative_errors = []\n",
    "        for it in range(iterations):\n",
    "            index = np.random.randint(len(data_s))\n",
    "            data = data_s[index]\n",
    "            target = targets[index]\n",
    "            \n",
    "            derror_dbias, derror_dweight = self.gradient(data, target)\n",
    "            self.update(derror_dbias, derror_dweight)\n",
    "            \n",
    "            if it % 100 == 0:\n",
    "                cumulative_error = 0\n",
    "                for i in range(len(data_s)):\n",
    "                    data_point = data_s[i]\n",
    "                    target = targets[i]\n",
    "                    \n",
    "                    prediction = self.predict(data_point)\n",
    "                    error = np.square(prediction - target)\n",
    "                    cumulative_error += error\n",
    "                cumulative_errors.append(cumulative_error)\n",
    "        return cumulative_errors"
   ]
  }
 ],
 "metadata": {
  "kernelspec": {
   "display_name": "Python 3 (ipykernel)",
   "language": "python",
   "name": "python3"
  },
  "language_info": {
   "codemirror_mode": {
    "name": "ipython",
    "version": 3
   },
   "file_extension": ".py",
   "mimetype": "text/x-python",
   "name": "python",
   "nbconvert_exporter": "python",
   "pygments_lexer": "ipython3",
   "version": "3.7.13"
  }
 },
 "nbformat": 4,
 "nbformat_minor": 4
}
